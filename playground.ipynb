{
 "cells": [
  {
   "attachments": {},
   "cell_type": "markdown",
   "metadata": {},
   "source": [
    "### Instruksi:\n",
    "1. Buka buku Learn Python 3 The Hard Way.\n",
    "2. Di bawah ini ada Example dari beberapa Bab yang memuat Operator.\n",
    "3. Silakan kalian bisa latihan dengan melakukan dari yang diinstruksikan pada bagian \"Study Drill\" yang ada di bawah Example\n",
    "4. Bisa dibaca-baca bukunya agar mendapatkan wawasan lebih dari apa yang asisten berikan"
   ]
  },
  {
   "attachments": {},
   "cell_type": "markdown",
   "metadata": {},
   "source": [
    " "
   ]
  },
  {
   "attachments": {},
   "cell_type": "markdown",
   "metadata": {},
   "source": [
    "3: Numbers and Math"
   ]
  },
  {
   "cell_type": "code",
   "execution_count": 1,
   "metadata": {},
   "outputs": [
    {
     "name": "stdout",
     "output_type": "stream",
     "text": [
      "I will now count my chickens:\n",
      "Hens 30.0\n",
      "Roosters 97\n",
      "Now I will count the eggs:\n",
      "6.75\n",
      "Is it true that 3 + 2 < 5 - 7?\n",
      "False\n",
      "What is 3 + 2? 5\n",
      "What is 5 - 7? -2\n",
      "Oh, that's why it's False.\n",
      "How about some more.\n",
      "Is it greater? True\n",
      "Is it greater or equal? True\n",
      "Is it less or equal? False\n"
     ]
    }
   ],
   "source": [
    "# ex3: Numbers and Math\n",
    "\n",
    "print(\"I will now count my chickens:\")\n",
    "\n",
    "print(\"Hens\", 25 + 30 / 6)\n",
    "print(\"Roosters\", 100 -25 * 3 % 4)\n",
    "\n",
    "print(\"Now I will count the eggs:\")\n",
    "\n",
    "print(3 + 2 + 1 - 5 + 4 % 2 - 1 / 4 + 6)\n",
    "\n",
    "print(\"Is it true that 3 + 2 < 5 - 7?\")\n",
    "\n",
    "print(3 + 2 < 5 - 7)\n",
    "\n",
    "print(\"What is 3 + 2?\", 3 + 2)\n",
    "\n",
    "print(\"What is 5 - 7?\", 5 - 7)\n",
    "\n",
    "print(\"Oh, that's why it's False.\")\n",
    "\n",
    "print(\"How about some more.\")\n",
    "\n",
    "print(\"Is it greater?\", 5 > -2)\n",
    "print(\"Is it greater or equal?\", 5 >= -2)\n",
    "print(\"Is it less or equal?\", 5 <= -2)"
   ]
  },
  {
   "cell_type": "code",
   "execution_count": null,
   "metadata": {},
   "outputs": [],
   "source": [
    "# Kerjakan Study Drill 3) di sini\n",
    "#ex : numbers and math\n",
    "\n",
    "#instruksi untuk menampilkan data string \"i will now count mu chicken\"\n",
    "print(\"I will now count my chickens:\")\n",
    "\n",
    "#instruksi untuk menampilkan jumlah ayam betina dengan rumus 25+30*/6 dengan hasil 30\n",
    "print(\"Hens\", 25 + 30 / 6)\n",
    "#instruksi untuk menampilakn jumlah ayam jantan dengan rumus 100 -25 * 3 % 4 dengan hasil 97\n",
    "print(\"Roosters\", 100 -25 * 3 % 4)\n",
    "\n",
    "#instruksi untuk menampilkan data string dengan hasil \"now i will count the eggs\"\n",
    "print(\"Now I will count the eggs:\")\n",
    "\n",
    "#instruksi untuk menampilkan operasi hitung dengan rumus 3 + 2 + 1 - 5 + 4 % 2 - 1 / 4 + 6 dan menghasilkan 6.75\n",
    "print(3 + 2 + 1 - 5 + 4 % 2 - 1 / 4 + 6)\n",
    "\n",
    "#instruksi untuk menampilkan data string benar atau tidaknya 3 + 2 < 5 - 7?\n",
    "print(\"Is it true that 3 + 2 < 5 - 7?\")\n",
    "\n",
    "#instruksi menampilkan jika hasil dari (3 + 2 < 5 - 7) benar atau salah, hasilnya 'false' atau salah\n",
    "print(3 + 2 < 5 - 7)\n",
    "\n",
    "#instruksi menampilakn data string dari '\"What is 3 + 2?\", 3 + 2' dan hasil yang diperolehnya adalah 5\n",
    "print(\"What is 3 + 2?\", 3 + 2)\n",
    "\n",
    "#instruksi menampilkan data string dari '\"What is 5 - 7?\", 5 - 7' dan hasil yang ditampilakn adalah -2\n",
    "print(\"What is 5 - 7?\", 5 - 7)\n",
    "\n",
    "#instruksi menampilkan data string  \"Oh, that's why it's False.\" \n",
    "print(\"Oh, that's why it's False.\")\n",
    "\n",
    "#instruksi menampilkan data string 'how about some more.'\n",
    "print(\"How about some more.\")\n",
    "\n",
    "#instruksi menampilkan data string \"Is it greater?\", 5 > -2 dengan menampilan salah atau benarnya\n",
    "print(\"Is it greater?\", 5 > -2)\n",
    "#instruksi menampilkan data string \"Is it greater or equal?\", 5 >= -2 dengan menampilkan benar atau salahnya\n",
    "print(\"Is it greater or equal?\", 5 >= -2)\n",
    "#instruksi menampilkan data string \"Is it less or equal?\", 5 <= -2 dengan menampilkan benar atau salahnya\n",
    "print(\"Is it less or equal?\", 5 <= -2)"
   ]
  },
  {
   "attachments": {},
   "cell_type": "markdown",
   "metadata": {},
   "source": [
    "4: Variables and Names"
   ]
  },
  {
   "cell_type": "code",
   "execution_count": 2,
   "metadata": {},
   "outputs": [
    {
     "name": "stdout",
     "output_type": "stream",
     "text": [
      "There are 100 cars available.\n",
      "There are only 30 drivers available.\n",
      "There will be 70 empty cars today.\n",
      "We can transport 120.0 people today.\n",
      "We have 90 to carpool today.\n",
      "We need to put about 3.0 in each car.\n"
     ]
    }
   ],
   "source": [
    "cars = 100\n",
    "space_in_a_car = 4.0\n",
    "drivers = 30\n",
    "passengers = 90\n",
    "cars_not_driven = cars - drivers\n",
    "cars_driven = drivers\n",
    "carpool_capacity = cars_driven * space_in_a_car\n",
    "average_passengers_per_car = passengers / cars_driven\n",
    "\n",
    "print(\"There are\", cars, \"cars available.\")\n",
    "print(\"There are only\", drivers, \"drivers available.\")\n",
    "print(\"There will be\", cars_not_driven, \"empty cars today.\")\n",
    "print(\"We can transport\", carpool_capacity, \"people today.\")\n",
    "print(\"We have\", passengers, \"to carpool today.\")\n",
    "print(\"We need to put about\", average_passengers_per_car, \"in each car.\")"
   ]
  },
  {
   "cell_type": "code",
   "execution_count": null,
   "metadata": {},
   "outputs": [],
   "source": [
    "# Kerjakan Study Drill 4) di sini\n",
    "#menyatakan variabel cars yang berjumlah 100\n",
    "cars = 100\n",
    "#menyatakan variabel space_in_a_car dengan jumlah 4\n",
    "space_in_a_car = 4.0\n",
    "#menyatakan variabel drivers dengan jumlah 30\n",
    "drivers = 30\n",
    "#menyatakan variabel passengers dengan jumlah 90\n",
    "passengers = 90\n",
    "#menyatakan variabel cars_not_driven itu sama dengan variabel cars dikurangi drivers\n",
    "cars_not_driven = cars - drivers\n",
    "#menyatakan variabel cars_driven itu sama dengan variabel drivers\n",
    "cars_driven = drivers\n",
    "#menyatakan variabel carpool_capacity sama dengan variabel cars_driven dikali variabel space_in_a_car\n",
    "carpool_capacity = cars_driven * space_in_a_car\n",
    "#menyatakan variabel average_passengers_per_car sama dengan passengers dibagi dengan cars_driven\n",
    "average_passengers_per_car = passengers / cars_driven\n",
    "\n",
    "#instruksi menampilkan data string jumlah mobil yang tersedia yaitu 100\n",
    "print(\"There are\", cars, \"cars available.\")\n",
    "#instruksi menampilkan data string pengemudi yang tersedia yaitu 30 pengemudi\n",
    "print(\"There are only\", drivers, \"drivers available.\")\n",
    "#instruksi menampilkan data string mobil yang tidak dikemudikan yaitu ada 70\n",
    "print(\"There will be\", cars_not_driven, \"empty cars today.\")\n",
    "#instruksi menampilkan data string kapasitas total mobil yang terdapay pengemudi yaitu 120 orang\n",
    "print(\"We can transport\", carpool_capacity, \"people today.\")\n",
    "#instruksi menampilkan data string penumpang yang ada pada hari ini yaitu 90 orang\n",
    "print(\"We have\", passengers, \"to carpool today.\")\n",
    "#instruksi menampilkan data string jumlah penumpang yang harus ada di setiap mobil yang terdapat pengemudi yaitu 3 orang\n",
    "print(\"We need to put about\", average_passengers_per_car, \"in each car.\")\n"
   ]
  },
  {
   "attachments": {},
   "cell_type": "markdown",
   "metadata": {},
   "source": [
    "### Instruksi:\n",
    "1. Tulis ulang kode contoh di atasnya dengan sebelumnya artikan dengan command (#)"
   ]
  },
  {
   "attachments": {},
   "cell_type": "markdown",
   "metadata": {},
   "source": [
    "Contoh\n",
    "\n",
    "Tulis program Python yang dapat menghitung luas dari Lingkaran dengan jari-jari yang diinput!"
   ]
  },
  {
   "cell_type": "code",
   "execution_count": null,
   "metadata": {},
   "outputs": [],
   "source": [
    "from math import pi\n",
    "r = float(input (\"Input the radius of the circle : \"))\n",
    "print (\"The area of the circle with radius \" + str(r) + \" is: \" + str(pi * r**2))"
   ]
  },
  {
   "cell_type": "code",
   "execution_count": null,
   "metadata": {},
   "outputs": [],
   "source": [
    "# import pi dari math library\n",
    "from math import pi\n",
    "\n",
    "# membuat variabel untuk user menginputkan nilai jari-jari\n",
    "r = float(input (\"Masukkan jari-jari lingkaran: \"))\n",
    "\n",
    "# Mem-print nilai luas lingkaran sekaligus menghitungnya\n",
    "print (\"Luas lingkaran dengan jari-jari \" + str(r) + \" adalah: \" + str(pi * r**2))"
   ]
  },
  {
   "attachments": {},
   "cell_type": "markdown",
   "metadata": {},
   "source": [
    "5: Tulis program Python untuk tambah, kurang, kali, dan bagi dari dua buah pecahan"
   ]
  },
  {
   "cell_type": "code",
   "execution_count": 3,
   "metadata": {},
   "outputs": [
    {
     "name": "stdout",
     "output_type": "stream",
     "text": [
      "2/3 + 3/7 = 23/21\n",
      "2/3 - 3/7 = 5/21\n",
      "2/3 * 3/7 = 2/7\n",
      "2/3 / 3/7 = 14/9\n"
     ]
    }
   ],
   "source": [
    "import fractions\n",
    "\n",
    "f1 = fractions.Fraction(2, 3)\n",
    "f2 = fractions.Fraction(3, 7)\n",
    "\n",
    "print('{} + {} = {}'.format(f1, f2, f1 + f2))\n",
    "print('{} - {} = {}'.format(f1, f2, f1 - f2))\n",
    "print('{} * {} = {}'.format(f1, f2, f1 * f2))\n",
    "print('{} / {} = {}'.format(f1, f2, f1 / f2))"
   ]
  },
  {
   "cell_type": "code",
   "execution_count": null,
   "metadata": {},
   "outputs": [],
   "source": [
    "# Kerjakan Study Drill 5 di sini\n",
    "#import fraction dari math library\n",
    "import fractions\n",
    "\n",
    "#menyatakan f1 merupakan pecahan dari 2/3\n",
    "f1 = fractions.Fraction(2, 3)\n",
    "#menyatakan f2 merupakan pecahan dari 3/7\n",
    "f2 = fractions.Fraction(3, 7)\n",
    "\n",
    "#instruksi menampilkan data string yang berformat dari f1, f2, dan f1+f2\n",
    "print('{} + {} = {}'.format(f1, f2, f1 + f2))\n",
    "#instruksi menampilkan data string yang berformat dari f1, f2, f1- f2\n",
    "print('{} - {} = {}'.format(f1, f2, f1 - f2))\n",
    "#instruksi menampilkan data string yang berformat dari f1, f2, f1*f2\n",
    "print('{} * {} = {}'.format(f1, f2, f1 * f2))\n",
    "#instruksi menampilkan data string yang berformat dari f1, f2, f1 / f2\n",
    "print('{} / {} = {}'.format(f1, f2, f1 / f2))"
   ]
  },
  {
   "attachments": {},
   "cell_type": "markdown",
   "metadata": {},
   "source": [
    "6: Tulis program Python yang akan menghitung luas dari segitiga dengan alas dan tinggi yang kamu inputkan!"
   ]
  },
  {
   "cell_type": "code",
   "execution_count": 5,
   "metadata": {},
   "outputs": [
    {
     "name": "stdout",
     "output_type": "stream",
     "text": [
      "luas =  6.0\n"
     ]
    }
   ],
   "source": [
    "b = int(input(\"Input alas : \"))\n",
    "h = int(input(\"Input tinggi : \"))\n",
    "\n",
    "luas = b*h/2\n",
    "\n",
    "print(\"luas = \", luas)"
   ]
  },
  {
   "cell_type": "code",
   "execution_count": null,
   "metadata": {},
   "outputs": [],
   "source": [
    "# Kerjakan Study Drill 6 di sini\n",
    "#membuat variabel dari nilai alas segitiga dalam bentuk integer yang akan diinputkan\n",
    "b = int(input(\"Input alas : \"))\n",
    "#membuat variabel dari nilai tinggi segitiga dalam bentuk integer yang akan diinputkan\n",
    "h = int(input(\"Input tinggi : \"))\n",
    "\n",
    "#menyatakan variabel dari rumus luas segitiga\n",
    "luas = b*h/2\n",
    "\n",
    "#menampilkan data string yang menghasilkan nilai dari luas segita dengan nilai yang sudah diinputkan sebelumnya\n",
    "print(\"luas = \", luas)"
   ]
  },
  {
   "attachments": {},
   "cell_type": "markdown",
   "metadata": {},
   "source": [
    "7: Tulis program Python yang dapat menghitung luas permukaan dan volume dari Tabung!"
   ]
  },
  {
   "cell_type": "code",
   "execution_count": 6,
   "metadata": {},
   "outputs": [
    {
     "name": "stdout",
     "output_type": "stream",
     "text": [
      "Volume tabung adalah:  254.57142857142856\n",
      "Luas permukaan tabung adalah:  226.28571428571428\n"
     ]
    }
   ],
   "source": [
    "pi=22/7\n",
    "tinggi = float(input('Tinggi dari Tabung: '))\n",
    "jarijari = float(input('Jari-jari dari Tabung: '))\n",
    "volume = pi * jarijari * jarijari * tinggi\n",
    "lp = ((2*pi*jarijari) * tinggi) + ((pi*jarijari**2)*2)\n",
    "print(\"Volume tabung adalah: \", volume)\n",
    "print(\"Luas permukaan tabung adalah: \", lp)"
   ]
  },
  {
   "cell_type": "code",
   "execution_count": null,
   "metadata": {},
   "outputs": [],
   "source": [
    "# Kerjakan Study Drill 7 di sini\n",
    "#menyatakan variabel pi dengan nilai 22/7\n",
    "pi=22/7\n",
    "#membuat variabel dari nilai tinggi dari tabung dalam bentuk float yang akan diinputkan\n",
    "tinggi = float(input('Tinggi dari Tabung: '))\n",
    "#membuat variable dari nilai jari - jari dari tabung dalam bentuk float yang akan diinputkan\n",
    "jarijari = float(input('Jari-jari dari Tabung: '))\n",
    "#menghitung volume tabung dengan rumus pi * jarijari * jarijari * tinggi\n",
    "volume = pi * jarijari * jarijari * tinggi\n",
    "#menghitung luas permukaan tabung dengan rumus ((2*pi*jarijari) * tinggi) + ((pi*jarijari**2)*2)\n",
    "lp = ((2*pi*jarijari) * tinggi) + ((pi*jarijari**2)*2)\n",
    "#instruksi menyatakan data string dari hasil volume tabung\n",
    "print(\"Volume tabung adalah: \", volume)\n",
    "#instruksi menyatakan data string dari luas permukaan tabung\n",
    "print(\"Luas permukaan tabung adalah: \", lp)"
   ]
  },
  {
   "attachments": {},
   "cell_type": "markdown",
   "metadata": {},
   "source": [
    "8: Tulis program Python untuk mendapatkan akar pangkat dua dan pangkat dari nilai desimal yang diberikan!"
   ]
  },
  {
   "cell_type": "code",
   "execution_count": 1,
   "metadata": {},
   "outputs": [
    {
     "name": "stdout",
     "output_type": "stream",
     "text": [
      "Akar pangkat dua dari 1.44 adalah : 1.2\n",
      "Pangkat dua dari 1.44  adalah : 4.220695816996552825673328929\n"
     ]
    }
   ],
   "source": [
    "from decimal import *\n",
    "x = Decimal('1.44')\n",
    "print(\"Akar pangkat dua dari\",x, \"adalah :\", x.sqrt())\n",
    "print(\"Pangkat dua dari\",x, \" adalah :\", x.exp())\n"
   ]
  },
  {
   "cell_type": "code",
   "execution_count": null,
   "metadata": {},
   "outputs": [],
   "source": [
    "# Kerjakan Study Drill 8 di sini\n",
    "#mengimpor * dari decimal\n",
    "from decimal import *\n",
    "#menyatakan variable x = 1.44 dalam bentuk decimal\n",
    "x = Decimal('1.44')\n",
    "#instruksi menyatakan data string dari jumlah x jika diakar pangkat dua\n",
    "print(\"Akar pangkat dua dari\",x, \"adalah :\", x.sqrt())\n",
    "#instruksi menyatakan data string dari jumlah x jika dipangkat dua\n",
    "print(\"Pangkat dua dari\",x, \" adalah :\", x.exp())"
   ]
  },
  {
   "attachments": {},
   "cell_type": "markdown",
   "metadata": {},
   "source": [
    "9: Tulis program Python yang dapat menentukan apakah benar bilangan tersebut LEBIH BESAR dari 4^4 DAN jika di-MODULUS-kan 34 hasilnya adalah 4!"
   ]
  },
  {
   "cell_type": "code",
   "execution_count": 2,
   "metadata": {},
   "outputs": [
    {
     "name": "stdout",
     "output_type": "stream",
     "text": [
      "Original Integer:\n",
      "922\n",
      "Apakah benar integer tersebut lebih besar dari 4^4 dan hasilnya 4 jika di-mod-kan dengan 34:\n",
      "True\n",
      "\n",
      "Original Integer:\n",
      "914\n",
      "Apakah benar integer tersebut lebih besar dari 4^4 dan hasilnya 4 jika di-mod-kan dengan 34:\n",
      "False\n",
      "\n",
      "Original Integer:\n",
      "854\n",
      "Apakah benar integer tersebut lebih besar dari 4^4 dan hasilnya 4 jika di-mod-kan dengan 34:\n",
      "True\n"
     ]
    }
   ],
   "source": [
    "def test(n):\n",
    "    return n % 34 == 4 and n > 4 ** 4\n",
    "\n",
    "n = 922\n",
    "print(\"Original Integer:\")\n",
    "print(n)\n",
    "print(\"Apakah benar integer tersebut lebih besar dari 4^4 dan hasilnya 4 jika di-mod-kan dengan 34:\")\n",
    "\n",
    "print(test(n))\n",
    "\n",
    "n = 914\n",
    "print(\"\\nOriginal Integer:\")\n",
    "print(n)\n",
    "print(\"Apakah benar integer tersebut lebih besar dari 4^4 dan hasilnya 4 jika di-mod-kan dengan 34:\")\n",
    "print(test(n))\n",
    "\n",
    "n = 854\n",
    "print(\"\\nOriginal Integer:\")\n",
    "print(n)\n",
    "print(\"Apakah benar integer tersebut lebih besar dari 4^4 dan hasilnya 4 jika di-mod-kan dengan 34:\")\n",
    "print(test(n))"
   ]
  },
  {
   "cell_type": "code",
   "execution_count": null,
   "metadata": {},
   "outputs": [],
   "source": [
    "# Kerjakan Study Drill 9 di sini\n",
    "## Kalian bisa coba membuktikan dengan menghitung hasil dari 4^4 dan mod 34 dari bilangan integernya\n",
    "#mendefinisikan fungsi 'test' saat dimasukkan dengan variable n\n",
    "def test(n):\n",
    "    #menghitung n jika dimodulo 34 apakah akan menghasilkan 4 dan menanyakan apakah n lebih besar daripada 4^4 dan mereturn tiap kali digunakan\n",
    "    return n % 34 == 4 and n > 4 ** 4\n",
    "\n",
    "#menyatakan variable n merupakan 922 \n",
    "n = 922\n",
    "#instruksi menampilkan data string tulisan Original Integer\n",
    "print(\"Original Integer:\")\n",
    "#instruksi menampilkan data sting variable n dari variable diatas\n",
    "print(n)\n",
    "#instruksi menampilkan data string tulisan \"Apakah benar integer tersebut lebih besar dari 4^4 dan hasilnya 4 jika di-mod-kan dengan 34:\"\n",
    "print(\"Apakah benar integer tersebut lebih besar dari 4^4 dan hasilnya 4 jika di-mod-kan dengan 34:\")\n",
    "\n",
    "#instruksi menampilkan data string hasil test dari variable n = 922\n",
    "print(test(n))\n",
    "\n",
    "#menyatakan variable n merupakan 914\n",
    "n = 914\n",
    "#instruksi menapilkan tulisan Original Integer\n",
    "print(\"\\nOriginal Integer:\")\n",
    "#instruksi menampilkan data string variable n dari variable diatas\n",
    "print(n)\n",
    "#instruksi menampilkan data string tulisan \"Apakah benar integer tersebut lebih besar dari 4^4 dan hasilnya 4 jika di-mod-kan dengan 34:\"\n",
    "print(\"Apakah benar integer tersebut lebih besar dari 4^4 dan hasilnya 4 jika di-mod-kan dengan 34:\")\n",
    "#instruksi menampilkan data string hasil test dari variable n = 914\n",
    "print(test(n))\n",
    "\n",
    "\n",
    "#menyatakan variable n merupakan 914\n",
    "n = 854\n",
    "#instruksi menampilkan data string tulisan Original Integer\n",
    "print(\"\\nOriginal Integer:\")\n",
    "#instruksi menampilkan data string variable n dari variable diatas\n",
    "print(n)\n",
    "#instruksi menampilkan datas stringtulisan \"Apakah benar integer tersebut lebih besar dari 4^4 dan hasilnya 4 jika di-mod-kan dengan 34:\"\n",
    "print(\"Apakah benar integer tersebut lebih besar dari 4^4 dan hasilnya 4 jika di-mod-kan dengan 34:\")\n",
    "#instruksi menampilkan data string hasil test dari variable n = 854\n",
    "print(test(n))"
   ]
  },
  {
   "attachments": {},
   "cell_type": "markdown",
   "metadata": {},
   "source": [
    "10: Tulis program Python yang dapat menyimpan nama depan dan nama belakang user dan mem-print-nya dengan dibalik antara keduanya!\n"
   ]
  },
  {
   "cell_type": "code",
   "execution_count": 4,
   "metadata": {},
   "outputs": [
    {
     "name": "stdout",
     "output_type": "stream",
     "text": [
      "Hello  Rachma Julie\n"
     ]
    }
   ],
   "source": [
    "fname = input(\"Input your First Name : \")\n",
    "lname = input(\"Input your Last Name : \")\n",
    "print (\"Hello  \" + lname + \" \" + fname)"
   ]
  },
  {
   "cell_type": "code",
   "execution_count": null,
   "metadata": {},
   "outputs": [],
   "source": [
    "# Kerjakan Study Drill 10 di sini\n",
    "#menyatakan variable nama pertama dan membuat input agar user dapat menginput nama pertama user\n",
    "fname = input(\"Input your First Name : \")\n",
    "#menyatakan variable nama belakang dan membuat input agar user dapat menginput nama belakang user\n",
    "lname = input(\"Input your Last Name : \")\n",
    "#instruksi menampilkan data string kata 'Hello' lalu dilanjut dengan variable nama belakang yang di input oleh user dan nama pertama yang di inputkan oleh user\n",
    "print (\"Hello  \" + lname + \" \" + fname)"
   ]
  }
 ],
 "metadata": {
  "kernelspec": {
   "display_name": "Python 3",
   "language": "python",
   "name": "python3"
  },
  "language_info": {
   "codemirror_mode": {
    "name": "ipython",
    "version": 3
   },
   "file_extension": ".py",
   "mimetype": "text/x-python",
   "name": "python",
   "nbconvert_exporter": "python",
   "pygments_lexer": "ipython3",
   "version": "3.10.7"
  },
  "orig_nbformat": 4
 },
 "nbformat": 4,
 "nbformat_minor": 2
}
